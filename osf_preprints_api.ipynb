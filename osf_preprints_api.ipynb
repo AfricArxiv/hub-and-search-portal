{
  "nbformat": 4,
  "nbformat_minor": 0,
  "metadata": {
    "colab": {
      "name": "osf_preprints_api.ipynb",
      "version": "0.3.2",
      "provenance": [],
      "collapsed_sections": [],
      "include_colab_link": true
    },
    "kernelspec": {
      "name": "python3",
      "display_name": "Python 3"
    },
    "accelerator": "GPU"
  },
  "cells": [
    {
      "cell_type": "markdown",
      "metadata": {
        "id": "view-in-github",
        "colab_type": "text"
      },
      "source": [
        "<a href=\"https://colab.research.google.com/github/AfricArxiv/repo-dev/blob/master/osf_preprints_api.ipynb\" target=\"_parent\"><img src=\"https://colab.research.google.com/assets/colab-badge.svg\" alt=\"Open In Colab\"/></a>"
      ]
    },
    {
      "cell_type": "code",
      "metadata": {
        "id": "GrWSQowsQwzu",
        "colab_type": "code",
        "colab": {}
      },
      "source": [
        "import requests\n",
        "import json\n",
        "\n",
        "\n",
        "preprintsApiUrl = \"https://api.osf.io/v2/providers/preprints/africarxiv/preprints/?page[size]=57\"\n",
        "preprintsRequest = requests.get( url = preprintsApiUrl )\n",
        "preprintsRequestContent = json.loads( preprintsRequest.content )\n",
        "\n",
        "keys_list = [ 'titl', 'date', 'description', 'link', 'doi', 'authors', 'subjects', 'tags' ]\n",
        "values_list = []\n",
        "\n",
        "preprintMeta = []\n",
        "preprintsMeta = []\n",
        "\n",
        "subjects_list = []\n",
        "tags_list = []\n",
        "\n",
        "author = []\n",
        "preprintAuthors = []\n",
        "authors = []\n",
        "\n",
        "\n",
        "for preprint in preprintsRequestContent['data']:\n",
        "\n",
        "  authorApiUrl = preprint['relationships']['contributors']['links']['related']['href']\n",
        "  authorRequest = requests.get( url = authorApiUrl )\n",
        "  authorRequestContent = json.loads( authorRequest.content )\n",
        "\n",
        "  for preprintAuthor in authorRequestContent['data']:\n",
        "\n",
        "    author.append( preprintAuthor['embeds']['users']['data']['attributes']['full_name'] )\n",
        "    author.append( preprintAuthor['embeds']['users']['data']['links']['html'] )\n",
        "\n",
        "    preprintAuthors.append( author )\n",
        "    author = []\n",
        "\n",
        "  for subject in preprint['attributes']['subjects']:\n",
        "    for subj in subject:\n",
        "      subjects_list.append( subj['text'] )\n",
        "\n",
        "  for tag in preprint['attributes']['tags']:\n",
        "    tags_list.append( tag )\n",
        "\n",
        "  preprintMeta.append( preprint['attributes']['title'] )\n",
        "  preprintMeta.append( preprint['attributes']['date_published'] )\n",
        "  preprintMeta.append( preprint['attributes']['description'] )\n",
        "  preprintMeta.append( preprint['links']['html'] )\n",
        "  preprintMeta.append( preprint['links']['preprint_doi'] )\n",
        "\n",
        "  preprintMeta.append( preprintAuthors )\n",
        "  preprintAuthors = []\n",
        "\n",
        "  preprintMeta.append( subjects_list )\n",
        "  subjects_list = []\n",
        "\n",
        "  preprintMeta.append( tags_list )\n",
        "  tags_list = []\n",
        "  \n",
        "  preprintsMeta.append( preprintMeta )\n",
        "  preprintMeta = []\n",
        "    "
      ],
      "execution_count": 0,
      "outputs": []
    },
    {
      "cell_type": "code",
      "metadata": {
        "id": "NMM6gzOBrhIb",
        "colab_type": "code",
        "colab": {}
      },
      "source": [
        "preprintsMetaJson = json.dumps( [dict( zip( keys_list, row ) ) for row in preprintsMeta], indent=1 )"
      ],
      "execution_count": 0,
      "outputs": []
    }
  ]
}