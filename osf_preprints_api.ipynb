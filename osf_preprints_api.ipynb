{
  "nbformat": 4,
  "nbformat_minor": 0,
  "metadata": {
    "colab": {
      "name": "osf_preprints_api.ipynb",
      "provenance": [],
      "collapsed_sections": [],
      "include_colab_link": true
    },
    "kernelspec": {
      "name": "python3",
      "display_name": "Python 3"
    },
    "accelerator": "GPU"
  },
  "cells": [
    {
      "cell_type": "markdown",
      "metadata": {
        "id": "view-in-github",
        "colab_type": "text"
      },
      "source": [
        "<a href=\"https://colab.research.google.com/github/AfricArxiv/hub-and-search-portal/blob/master/osf_preprints_api.ipynb\" target=\"_parent\"><img src=\"https://colab.research.google.com/assets/colab-badge.svg\" alt=\"Open In Colab\"/></a>"
      ]
    },
    {
      "cell_type": "code",
      "metadata": {
        "id": "GrWSQowsQwzu",
        "colab_type": "code",
        "colab": {}
      },
      "source": [
        "import requests\n",
        "import json\n",
        "import uuid\n",
        "\n",
        "preprintsApiUrl = \"https://api.osf.io/v2/providers/preprints/africarxiv/preprints/?page[size]=100\"\n",
        "preprintsRequest = requests.get( url = preprintsApiUrl )\n",
        "preprintsRequestContent = json.loads( preprintsRequest.content )\n",
        "\n",
        "keys_list = [ 'title', 'date', 'description', 'link', 'doi', 'authors', 'subjects', 'tags' ]\n",
        "values_list = []\n",
        "\n",
        "preprintMeta = []\n",
        "preprintsMeta = []\n",
        "\n",
        "subjects_list = []\n",
        "tags_list = []\n",
        "\n",
        "author = []\n",
        "preprintAuthors = []\n",
        "authors = []\n",
        "\n",
        "\n",
        "for preprint in preprintsRequestContent['data']:\n",
        "\n",
        "  authorApiUrl = preprint['relationships']['contributors']['links']['related']['href']\n",
        "  authorRequest = requests.get( url = authorApiUrl )\n",
        "  authorRequestContent = json.loads( authorRequest.content )\n",
        "\n",
        "  for preprintAuthor in authorRequestContent['data']:\n",
        "\n",
        "    author.append( preprintAuthor['embeds']['users']['data']['attributes']['full_name'] )\n",
        "    author.append( preprintAuthor['embeds']['users']['data']['links']['html'] )\n",
        "\n",
        "    preprintAuthors.append( author )\n",
        "    author = []\n",
        "\n",
        "  for subject in preprint['attributes']['subjects']:\n",
        "    for subj in subject:\n",
        "      subjects_list.append( subj['text'] )\n",
        "\n",
        "  for tag in preprint['attributes']['tags']:\n",
        "    tags_list.append( tag )\n",
        "\n",
        "  preprintMeta.append( preprint['attributes']['title'] )\n",
        "  preprintMeta.append( preprint['attributes']['date_published'] )\n",
        "  preprintMeta.append( preprint['attributes']['description'] )\n",
        "  preprintMeta.append( preprint['links']['html'] )\n",
        "  preprintMeta.append( preprint['links']['preprint_doi'] )\n",
        "\n",
        "  preprintMeta.append( preprintAuthors )\n",
        "  preprintAuthors = []\n",
        "\n",
        "  preprintMeta.append( subjects_list )\n",
        "  subjects_list = []\n",
        "\n",
        "  preprintMeta.append( tags_list )\n",
        "  tags_list = []\n",
        "  \n",
        "  preprintsMeta.append( preprintMeta )\n",
        "  preprintMeta = []\n",
        "    "
      ],
      "execution_count": 0,
      "outputs": []
    },
    {
      "cell_type": "code",
      "metadata": {
        "colab_type": "code",
        "id": "Hibg8MMNEJYY",
        "colab": {}
      },
      "source": [
        "preprintsMetaJson = json.dumps( [dict( zip( keys_list, row ) ) for row in preprintsMeta], indent=1 )\n",
        "prepare_data = json.loads( preprintsMetaJson )\n",
        "print(prepare_data)"
      ],
      "execution_count": 0,
      "outputs": []
    },
    {
      "cell_type": "code",
      "metadata": {
        "id": "A6vv2ymYxAPl",
        "colab_type": "code",
        "colab": {}
      },
      "source": [
        "authors_keys = [ 'label', 'element type', 'link' ]\n",
        "authors_attributes = []\n",
        "author_data = []\n",
        "authors_id_list = []\n",
        "\n",
        "for node in prepare_data:\n",
        "  for node_authors in node['authors']:\n",
        "    author_data.append( node_authors[0] )\n",
        "    author_data.append( 'Author' )\n",
        "    author_data.append( node_authors[1] )\n",
        "\n",
        "    authors_unique_id = uuid.uuid4()\n",
        "    authors_id_list.append( 'elem-' + str( authors_unique_id.time_low ) )\n",
        "\n",
        "    authors_attributes.append( author_data )\n",
        "    author_data = []\n",
        "\n",
        "authors_attributes = json.loads( json.dumps( [dict( zip( authors_keys, row ) ) for row in authors_attributes], indent=1 ) )\n",
        "\n",
        "authors_format = {}\n",
        "authors_final_format = []\n",
        "\n",
        "i = 0\n",
        "\n",
        "for authors_temp in authors_attributes:\n",
        "  authors_format['_id'] = authors_id_list[i]\n",
        "  authors_format['attributes'] = authors_temp\n",
        "\n",
        "  i += 1\n",
        "\n",
        "  authors_final_format.append( authors_format )\n",
        "  authors_format = {}\n",
        "\n",
        "for element in authors_final_format:\n",
        "  authors_format.update( element )"
      ],
      "execution_count": 0,
      "outputs": []
    },
    {
      "cell_type": "code",
      "metadata": {
        "id": "DsVhwyl0vv2Z",
        "colab_type": "code",
        "colab": {}
      },
      "source": [
        "subjects_keys = [ 'label', 'element_type' ]\n",
        "subjects_attributes = []\n",
        "subject_data = []\n",
        "subjects_id_list = []\n",
        "\n",
        "for node in prepare_data:\n",
        "  for node_subjects in node['subjects']:\n",
        "    subject_data.append( node_subjects )\n",
        "    subject_data.append( 'Subject' )\n",
        "\n",
        "    subjects_unique_id = uuid.uuid4()\n",
        "    subjects_id_list.append( 'elem-' + str( subjects_unique_id.time_low ) )\n",
        "\n",
        "    subjects_attributes.append( subject_data )\n",
        "    subject_data = []\n",
        "\n",
        "subjects_attributes = json.loads( json.dumps( [dict( zip( subjects_keys, row ) ) for row in subjects_attributes], indent=1 ) )\n",
        "  \n",
        "subjects_format = {}\n",
        "subjects_final_format = []\n",
        "\n",
        "i = 0\n",
        "\n",
        "for subjects_temp in subjects_attributes:\n",
        "  subjects_format['_id'] = subjects_id_list[i]\n",
        "  subjects_format['attributes'] = subjects_temp\n",
        "\n",
        "  i += 1\n",
        "\n",
        "  subjects_final_format.append( subjects_format )\n",
        "  subjects_format = {}\n",
        "\n",
        "  subjects_final_format.append( subjects_format )\n",
        "\n",
        "for element in subjects_final_format:\n",
        "  subjects_format.update( element )\n"
      ],
      "execution_count": 0,
      "outputs": []
    },
    {
      "cell_type": "code",
      "metadata": {
        "id": "J6eOc9cXUVWo",
        "colab_type": "code",
        "colab": {}
      },
      "source": [
        "preprints_keys = [ 'label', 'element type', 'description', 'link', 'doi', 'date', 'tags' ]\n",
        "preprints_attributes = []\n",
        "preprint_data = []\n",
        "preprints_id_list = []\n",
        "\n",
        "for node in prepare_data:\n",
        "  preprint_data.append( node['title'] )\n",
        "  preprint_data.append( 'Preprint' )\n",
        "  preprint_data.append( node['description'] )\n",
        "  preprint_data.append( node['link'] )\n",
        "  preprint_data.append( node['doi'] )\n",
        "  preprint_data.append( node['date'] )\n",
        "  preprint_data.append( node['tags'] )\n",
        "\n",
        "  preprint_unique_id = uuid.uuid4()\n",
        "  preprints_id_list.append( 'elem-' + str( preprint_unique_id.time_low ) )\n",
        "\n",
        "  preprints_attributes.append( preprint_data )\n",
        "  preprint_data = []\n",
        "\n",
        "preprints_attributes = json.loads( json.dumps( [dict( zip( preprints_keys, row ) ) for row in preprints_attributes], indent=1 ) )\n",
        "\n",
        "preprints_format = {}\n",
        "preprints_final_format = []\n",
        "\n",
        "i = 0\n",
        "\n",
        "for preprints_temp in preprints_attributes:\n",
        "  preprints_format['_id'] = preprints_id_list[i]\n",
        "  preprints_format['attributes'] = preprints_temp\n",
        "\n",
        "  i = 1\n",
        "\n",
        "  preprints_final_format.append( preprints_format )\n",
        "  preprints_format = {}\n"
      ],
      "execution_count": 0,
      "outputs": []
    },
    {
      "cell_type": "code",
      "metadata": {
        "id": "c2eeag5_5Xtl",
        "colab_type": "code",
        "colab": {}
      },
      "source": [
        "for element in preprints_final_format:\n",
        "  print(type(element))"
      ],
      "execution_count": 0,
      "outputs": []
    },
    {
      "cell_type": "code",
      "metadata": {
        "id": "iNvsawvkybWc",
        "colab_type": "code",
        "colab": {}
      },
      "source": [
        "final_list = []\n",
        "final_dict = {}\n",
        "final_output = {}\n",
        "\n",
        "final_list.append( preprints_final_format )\n",
        "final_list.append( authors_final_format )\n",
        "final_list.append( subjects_final_format )\n",
        "\n",
        "for element in final_list:\n",
        "  final_output.update( element )\n",
        "\n",
        "print(final_list)\n"
      ],
      "execution_count": 0,
      "outputs": []
    }
  ]
}