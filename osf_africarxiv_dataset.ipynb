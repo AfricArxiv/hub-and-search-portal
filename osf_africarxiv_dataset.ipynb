{
  "nbformat": 4,
  "nbformat_minor": 0,
  "metadata": {
    "colab": {
      "name": "osf-africarxiv-dataset.ipynb",
      "provenance": [],
      "collapsed_sections": [],
      "authorship_tag": "ABX9TyPBCOzCNRKDd3zaNN+H8KMa",
      "include_colab_link": true
    },
    "kernelspec": {
      "display_name": "Python 3",
      "name": "python3"
    },
    "language_info": {
      "name": "python"
    }
  },
  "cells": [
    {
      "cell_type": "markdown",
      "metadata": {
        "id": "view-in-github",
        "colab_type": "text"
      },
      "source": [
        "<a href=\"https://colab.research.google.com/github/AfricArxiv/hub-and-search-portal/blob/master/osf_africarxiv_dataset.ipynb\" target=\"_parent\"><img src=\"https://colab.research.google.com/assets/colab-badge.svg\" alt=\"Open In Colab\"/></a>"
      ]
    },
    {
      "cell_type": "code",
      "metadata": {
        "id": "Ef4-Dprew2ub"
      },
      "source": [
        "from google.colab import drive\n",
        "drive.mount('/gdrive')"
      ],
      "execution_count": null,
      "outputs": []
    },
    {
      "cell_type": "code",
      "metadata": {
        "id": "04NotyxctJeE"
      },
      "source": [
        "import requests\n",
        "import json\n",
        "import pandas as pd\n",
        "\n",
        "preprintApi = 'https://api.osf.io/v2/providers/preprints/africarxiv/preprints/'\n",
        "preprintApi = requests.get(preprintApi)\n",
        "preprintApi = json.loads(preprintApi.content)\n",
        "\n",
        "authorsRequest = \"\"\n",
        "papers = []\n",
        "\n",
        "while preprintApi['links']['next']:\n",
        "  for preprint in preprintApi['data']:\n",
        "    paper = {}\n",
        "    authorsRequest = requests.get(preprint['relationships']['contributors']['links']['related']['href'])\n",
        "    authorsRequest = json.loads(authorsRequest.content)\n",
        "    authorsData = authorsRequest['data']\n",
        "    authorPaper = []\n",
        "    authors = []\n",
        "\n",
        "    for author in authorsData:\n",
        "      if 'data' in author['embeds']['users']:\n",
        "        authors.append(author['embeds']['users']['data']['attributes']['full_name'])\n",
        "      elif 'errors' in author['embeds']['users']:\n",
        "        authors.append(author['embeds']['users']['errors'][0]['meta']['full_name'])\n",
        "      else:\n",
        "        print(\"Something else happens\")\n",
        "        print(author['embeds']['users'])\n",
        "\n",
        "    paper['authors'] = authors\n",
        "    paper['doi'] = preprint['links']['preprint_doi']\n",
        "    paper['link'] = preprint['links']['html']\n",
        "    paper['title'] = preprint['attributes']['title']\n",
        "    paper['date_published'] = preprint['attributes']['date_published']\n",
        "    paper['publication_type'] = preprint['type']\n",
        "    paper['abstract'] = preprint['attributes']['description']\n",
        "    paper['tags'] = preprint['attributes']['tags']\n",
        "\n",
        "    papers.append(paper)\n",
        "\n",
        "  preprintApi = requests.get(preprintApi['links']['next'])\n",
        "  preprintApi = json.loads(preprintApi.content)\n"
      ],
      "execution_count": null,
      "outputs": []
    },
    {
      "cell_type": "code",
      "metadata": {
        "id": "F6JfTIb0tovK"
      },
      "source": [
        "df = pd.DataFrame(papers)"
      ],
      "execution_count": null,
      "outputs": []
    },
    {
      "cell_type": "code",
      "metadata": {
        "id": "FL2_4mzzuHB4"
      },
      "source": [
        "df[\"authors\"] = df.apply(lambda x: \",\".join(x[\"authors\"]), axis=1)\n",
        "df[\"tags\"] = df.apply(lambda x: \",\".join(x[\"tags\"]), axis=1)"
      ],
      "execution_count": null,
      "outputs": []
    },
    {
      "cell_type": "code",
      "metadata": {
        "id": "9-XtPTvvxkSf"
      },
      "source": [
        "df.to_csv('data.csv')\n",
        "!cp data.csv \"gdrive\""
      ],
      "execution_count": null,
      "outputs": []
    }
  ]
}